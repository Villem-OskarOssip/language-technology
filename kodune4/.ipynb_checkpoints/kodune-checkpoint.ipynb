{
 "cells": [
  {
   "cell_type": "code",
   "execution_count": 1,
   "metadata": {},
   "outputs": [],
   "source": [
    "import estnltk\n",
    "from estnltk import Text\n",
    "import os\n",
    "import sys\n",
    "import nltk\n",
    "from nltk.tokenize.regexp import WhitespaceTokenizer\n",
    "import html"
   ]
  },
  {
   "cell_type": "code",
   "execution_count": null,
   "metadata": {},
   "outputs": [],
   "source": [
    "# 1.1 Korpuse töötlus\n",
    "def get_tagged_words(sisend):\n",
    "    soned = []\n",
    "    sisend = sisend.replace(\"<s>\", \"\").replace(\"<p>\", \"\").replace(\"</p>\", \"\")\n",
    "    read = sisend.readlines()\n",
    "    for rida in read:\n",
    "        \n",
    "\n",
    "    for i in range(0, len(sisend)):\n",
    "        sona = sisend[i]\n",
    "        if (sona[0]!='_'):\n",
    "            mark = (sona.split(\"    \"))[0].replace(\"\\n\", \"\").lower()\n",
    "            if (mark!=''):\n",
    "                soned.append(mark)\n",
    "    lause = \" \".join(soned)\n",
    "    l = Text(lause, word_tokenizer=WhitespaceTokenizer())\n",
    "    return list(zip(l.word_texts, l.postags))\n",
    "\n",
    "def loopFiles(path):\n",
    "    folder = os.listdir(os.getcwd() + '/' + path)\n",
    "    tagged = []\n",
    "    for file in folder:\n",
    "        f = open(folder + '/' + file, 'r', encoding='utf8')\n",
    "        tagged.extend(get_tagged_words(file))\n",
    "    return tagged\n",
    "\n",
    "\n",
    "tagged_texts = loopFiles(sys.argv[1]) # loen sisse treeninghulga\n",
    "test_texts = loopFiles(sys.argv[2]) # loen sisse teshulga andmed"
   ]
  }
 ],
 "metadata": {
  "kernelspec": {
   "display_name": "Python 3",
   "language": "python",
   "name": "python3"
  },
  "language_info": {
   "codemirror_mode": {
    "name": "ipython",
    "version": 3
   },
   "file_extension": ".py",
   "mimetype": "text/x-python",
   "name": "python",
   "nbconvert_exporter": "python",
   "pygments_lexer": "ipython3",
   "version": "3.5.6"
  }
 },
 "nbformat": 4,
 "nbformat_minor": 2
}
